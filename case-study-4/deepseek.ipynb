{
 "cells": [
  {
   "cell_type": "markdown",
   "id": "c89617a4",
   "metadata": {},
   "source": [
    "# Deepseek R1 0528 APIテスト\n",
    "\n",
    "このノートブックでは、Deepseek R1 0528モデルをAPIを使って試します。"
   ]
  },
  {
   "cell_type": "markdown",
   "id": "396ced18",
   "metadata": {},
   "source": [
    "## 必要なライブラリのインストール\n",
    "\n",
    "まず、必要なライブラリをインストールします。"
   ]
  },
  {
   "cell_type": "code",
   "execution_count": null,
   "id": "b03713fb",
   "metadata": {},
   "outputs": [],
   "source": [
    "!pip install requests\n",
    "!pip install python-dotenv"
   ]
  },
  {
   "cell_type": "markdown",
   "id": "be1b9f93",
   "metadata": {},
   "source": [
    "## APIキーの設定\n",
    "\n",
    "DeepseekのAPIキーを設定します。セキュリティのため、環境変数または入力フォームを使用します。"
   ]
  },
  {
   "cell_type": "code",
   "execution_count": null,
   "id": "e898231a",
   "metadata": {},
   "outputs": [],
   "source": [
    "import os\n",
    "from getpass import getpass\n",
    "import requests\n",
    "import json\n",
    "\n",
    "# APIキーを入力\n",
    "api_key = getpass(\"Deepseek APIキーを入力してください: \")\n",
    "os.environ[\"DEEPSEEK_API_KEY\"] = api_key"
   ]
  },
  {
   "cell_type": "markdown",
   "id": "d472a302",
   "metadata": {},
   "source": [
    "## APIリクエスト関数の定義"
   ]
  },
  {
   "cell_type": "code",
   "execution_count": null,
   "id": "726ce11b",
   "metadata": {},
   "outputs": [],
   "source": [
    "def query_deepseek(prompt, model=\"deepseek-r1-0528\", temperature=0.7, max_tokens=1000):\n",
    "    \"\"\"\n",
    "    Deepseek R1 0528モデルにリクエストを送信する関数\n",
    "    \"\"\"\n",
    "    headers = {\n",
    "        \"Content-Type\": \"application/json\",\n",
    "        \"Authorization\": f\"Bearer {os.environ.get('DEEPSEEK_API_KEY')}\"\n",
    "    }\n",
    "    \n",
    "    payload = {\n",
    "        \"model\": model,\n",
    "        \"messages\": [{\"role\": \"user\", \"content\": prompt}],\n",
    "        \"temperature\": temperature,\n",
    "        \"max_tokens\": max_tokens\n",
    "    }\n",
    "    \n",
    "    response = requests.post(\n",
    "        \"https://api.deepseek.com/v1/chat/completions\",\n",
    "        headers=headers,\n",
    "        json=payload\n",
    "    )\n",
    "    \n",
    "    if response.status_code == 200:\n",
    "        return response.json()[\"choices\"][0][\"message\"][\"content\"]\n",
    "    else:\n",
    "        return f\"エラー: {response.status_code}\\n{response.text}\""
   ]
  },
  {
   "cell_type": "markdown",
   "id": "d66a641e",
   "metadata": {},
   "source": [
    "## 簡単な使用例"
   ]
  },
  {
   "cell_type": "code",
   "execution_count": null,
   "id": "6539e864",
   "metadata": {},
   "outputs": [],
   "source": [
    "# 簡単なプロンプトでテスト\n",
    "test_prompt = \"日本の損害保険プライシングについて300字程度で説明してください。\"\n",
    "response = query_deepseek(test_prompt)\n",
    "print(response)"
   ]
  },
  {
   "cell_type": "markdown",
   "id": "6de06274",
   "metadata": {},
   "source": [
    "## パラメータを変更して試す例"
   ]
  },
  {
   "cell_type": "code",
   "execution_count": null,
   "id": "5d1cb042",
   "metadata": {},
   "outputs": [],
   "source": [
    "# 温度パラメータを変えてより創造的な回答を得る\n",
    "creative_prompt = \"未来の保険業界における人工知能の役割について考えを述べてください。\"\n",
    "response = query_deepseek(creative_prompt, temperature=0.9, max_tokens=1500)\n",
    "print(response)"
   ]
  },
  {
   "cell_type": "code",
   "execution_count": null,
   "id": "8a959540",
   "metadata": {},
   "outputs": [],
   "source": [
    "# 温度パラメータを下げてより決定的な回答を得る\n",
    "factual_prompt = \"純粋保険料と営業保険料の違いを説明してください。\"\n",
    "response = query_deepseek(factual_prompt, temperature=0.2, max_tokens=800)\n",
    "print(response)"
   ]
  },
  {
   "cell_type": "markdown",
   "id": "600527c9",
   "metadata": {},
   "source": [
    "## ストリーミングレスポンスの実装（オプション）"
   ]
  },
  {
   "cell_type": "code",
   "execution_count": null,
   "id": "0c4f198b",
   "metadata": {},
   "outputs": [],
   "source": [
    "import time\n",
    "from IPython.display import clear_output\n",
    "\n",
    "def stream_deepseek(prompt, model=\"deepseek-r1-0528\", temperature=0.7, max_tokens=1000):\n",
    "    \"\"\"\n",
    "    ストリーミングレスポンスを模倣する関数（実際のストリーミングAPIが利用可能な場合は、それを使用する）\n",
    "    \"\"\"\n",
    "    full_response = query_deepseek(prompt, model, temperature, max_tokens)\n",
    "    displayed_text = \"\"\n",
    "    \n",
    "    # 単語ごとに表示を更新する代わりに文字ごとに表示\n",
    "    for char in full_response:\n",
    "        displayed_text += char\n",
    "        clear_output(wait=True)\n",
    "        print(displayed_text)\n",
    "        time.sleep(0.01)  # 表示速度調整\n",
    "    \n",
    "    return full_response"
   ]
  },
  {
   "cell_type": "code",
   "execution_count": null,
   "id": "370a649f",
   "metadata": {},
   "outputs": [],
   "source": [
    "# ストリーミング表示でテスト\n",
    "stream_prompt = \"保険数理モデルの基本概念について説明してください。\"\n",
    "stream_deepseek(stream_prompt)"
   ]
  }
 ],
 "metadata": {
  "language_info": {
   "name": "python"
  }
 },
 "nbformat": 4,
 "nbformat_minor": 5
}
