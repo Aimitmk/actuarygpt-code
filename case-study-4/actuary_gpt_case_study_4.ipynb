{
  "cells": [
    {
      "cell_type": "code",
      "source": [
        "!git clone https://github.com/Aimitmk/actuarygpt-code.git"
      ],
      "metadata": {
        "colab": {
          "base_uri": "https://localhost:8080/"
        },
        "id": "yWXNJMl-u7Gn",
        "outputId": "bb39e7e8-52ac-46b0-8a04-206a1cfc62ce"
      },
      "id": "yWXNJMl-u7Gn",
      "execution_count": null,
      "outputs": [
        {
          "output_type": "stream",
          "name": "stdout",
          "text": [
            "Cloning into 'actuarygpt-code'...\n",
            "remote: Enumerating objects: 81, done.\u001b[K\n",
            "remote: Counting objects: 100% (81/81), done.\u001b[K\n",
            "remote: Compressing objects: 100% (56/56), done.\u001b[K\n",
            "remote: Total 81 (delta 24), reused 78 (delta 21), pack-reused 0 (from 0)\u001b[K\n",
            "Receiving objects: 100% (81/81), 90.12 KiB | 744.00 KiB/s, done.\n",
            "Resolving deltas: 100% (24/24), done.\n"
          ]
        }
      ]
    },
    {
      "cell_type": "code",
      "source": [
        "pip install openai PyPDF2"
      ],
      "metadata": {
        "colab": {
          "base_uri": "https://localhost:8080/"
        },
        "id": "aS7NfWR2vUNq",
        "outputId": "8177b42c-cad7-4088-bca6-e6ff8e59f3f9"
      },
      "id": "aS7NfWR2vUNq",
      "execution_count": null,
      "outputs": [
        {
          "output_type": "stream",
          "name": "stdout",
          "text": [
            "Requirement already satisfied: openai in /usr/local/lib/python3.11/dist-packages (1.84.0)\n",
            "Collecting PyPDF2\n",
            "  Downloading pypdf2-3.0.1-py3-none-any.whl.metadata (6.8 kB)\n",
            "Requirement already satisfied: anyio<5,>=3.5.0 in /usr/local/lib/python3.11/dist-packages (from openai) (4.9.0)\n",
            "Requirement already satisfied: distro<2,>=1.7.0 in /usr/local/lib/python3.11/dist-packages (from openai) (1.9.0)\n",
            "Requirement already satisfied: httpx<1,>=0.23.0 in /usr/local/lib/python3.11/dist-packages (from openai) (0.28.1)\n",
            "Requirement already satisfied: jiter<1,>=0.4.0 in /usr/local/lib/python3.11/dist-packages (from openai) (0.10.0)\n",
            "Requirement already satisfied: pydantic<3,>=1.9.0 in /usr/local/lib/python3.11/dist-packages (from openai) (2.11.5)\n",
            "Requirement already satisfied: sniffio in /usr/local/lib/python3.11/dist-packages (from openai) (1.3.1)\n",
            "Requirement already satisfied: tqdm>4 in /usr/local/lib/python3.11/dist-packages (from openai) (4.67.1)\n",
            "Requirement already satisfied: typing-extensions<5,>=4.11 in /usr/local/lib/python3.11/dist-packages (from openai) (4.14.0)\n",
            "Requirement already satisfied: idna>=2.8 in /usr/local/lib/python3.11/dist-packages (from anyio<5,>=3.5.0->openai) (3.10)\n",
            "Requirement already satisfied: certifi in /usr/local/lib/python3.11/dist-packages (from httpx<1,>=0.23.0->openai) (2025.4.26)\n",
            "Requirement already satisfied: httpcore==1.* in /usr/local/lib/python3.11/dist-packages (from httpx<1,>=0.23.0->openai) (1.0.9)\n",
            "Requirement already satisfied: h11>=0.16 in /usr/local/lib/python3.11/dist-packages (from httpcore==1.*->httpx<1,>=0.23.0->openai) (0.16.0)\n",
            "Requirement already satisfied: annotated-types>=0.6.0 in /usr/local/lib/python3.11/dist-packages (from pydantic<3,>=1.9.0->openai) (0.7.0)\n",
            "Requirement already satisfied: pydantic-core==2.33.2 in /usr/local/lib/python3.11/dist-packages (from pydantic<3,>=1.9.0->openai) (2.33.2)\n",
            "Requirement already satisfied: typing-inspection>=0.4.0 in /usr/local/lib/python3.11/dist-packages (from pydantic<3,>=1.9.0->openai) (0.4.1)\n",
            "Downloading pypdf2-3.0.1-py3-none-any.whl (232 kB)\n",
            "\u001b[2K   \u001b[90m━━━━━━━━━━━━━━━━━━━━━━━━━━━━━━━━━━━━━━━━\u001b[0m \u001b[32m232.6/232.6 kB\u001b[0m \u001b[31m3.3 MB/s\u001b[0m eta \u001b[36m0:00:00\u001b[0m\n",
            "\u001b[?25hInstalling collected packages: PyPDF2\n",
            "Successfully installed PyPDF2-3.0.1\n"
          ]
        }
      ]
    },
    {
      "cell_type": "markdown",
      "id": "b80738ee",
      "metadata": {
        "id": "b80738ee"
      },
      "source": [
        "# 再保険契約のPDF解析とJSON変換\n",
        "\n",
        "このノートブックは再保険契約のPDFからテキストを抽出し、OpenAI APIを使用してJSON形式に変換するプロセスを実装しています。"
      ]
    },
    {
      "cell_type": "code",
      "execution_count": null,
      "id": "50f13590",
      "metadata": {
        "id": "50f13590"
      },
      "outputs": [],
      "source": [
        "import json\n",
        "import os\n",
        "from datetime import datetime\n",
        "from pathlib import Path\n",
        "\n",
        "from openai import OpenAI\n",
        "from PyPDF2 import PdfReader\n",
        "\n",
        "CONTRACTS_DIR: Path = Path.cwd() / \"actuarygpt-code/case-study-4/contracts\"\n",
        "CONTRACTS_DIR.mkdir(parents=True, exist_ok=True)\n",
        "JSON_DIR: Path = Path.cwd() / \"actuarygpt-code/case-study-4/json\"\n",
        "JSON_DIR.mkdir(parents=True, exist_ok=True)"
      ]
    },
    {
      "cell_type": "code",
      "execution_count": null,
      "id": "ad8274d6",
      "metadata": {
        "id": "ad8274d6"
      },
      "outputs": [],
      "source": [
        "SYSTEM_PROMPT: str = \"\"\"\n",
        "    You are a system that extracts information from reinsurance contracts\n",
        "    and inserts this information into JSON files. Use the following schema strictly\n",
        "    to convert the contract information provided into JSON format. The user will\n",
        "    provide the text followed by the question: \"What is the JSON representation of\n",
        "    this reinsurance contract?\"\n",
        "\n",
        "    Schema:\n",
        "\n",
        "    {\n",
        "        \"$schema\": \"http://json-schema.org/draft-07/schema#\",\n",
        "        \"type\": \"object\",\n",
        "        \"properties\": {\n",
        "            \"treatyType\": {\n",
        "                \"type\": \"string\",\n",
        "                \"description\": \"Type of reinsurance treaty\"\n",
        "            },\n",
        "            \"insured\": {\n",
        "                \"type\": \"string\",\n",
        "                \"description\": \"Name of the insurance company being insured\"\n",
        "            },\n",
        "            \"reinsurer\": {\n",
        "                \"type\": \"string\",\n",
        "                \"description\": \"Name of the reinsurance company providing coverage\"\n",
        "            },\n",
        "            \"period\": {\n",
        "                \"type\": \"object\",\n",
        "                \"properties\": {\n",
        "                    \"start\": {\n",
        "                        \"type\": \"string\",\n",
        "                        \"description\": \"Start date of the reinsurance period\"\n",
        "                    },\n",
        "                    \"end\": {\n",
        "                        \"type\": \"string\",\n",
        "                        \"description\": \"End date of the reinsurance period\"\n",
        "                    }\n",
        "                },\n",
        "                \"required\": [\n",
        "                    \"start\",\n",
        "                    \"end\"\n",
        "                ],\n",
        "                \"description\": \"Period of reinsurance coverage\"\n",
        "            },\n",
        "            \"lossLayers\": {\n",
        "                \"type\": \"array\",\n",
        "                \"items\": {\n",
        "                    \"type\": \"object\",\n",
        "                    \"properties\": {\n",
        "                        \"layer\": {\n",
        "                            \"type\": \"integer\",\n",
        "                            \"description\": \"Layer number\"\n",
        "                        },\n",
        "                        \"excessOf\": {\n",
        "                            \"type\": \"integer\",\n",
        "                            \"description\": \"Excess amount triggering reinsurance coverage\"\n",
        "                        },\n",
        "                        \"limit\": {\n",
        "                            \"type\": \"integer\",\n",
        "                            \"description\": \"Maximum coverage limit for the layer\"\n",
        "                        },\n",
        "                        \"reinsuredPercent\": {\n",
        "                            \"type\": \"integer\",\n",
        "                            \"description\": \"Percentage of loss reinsured for the layer\"\n",
        "                        }\n",
        "                    },\n",
        "                    \"required\": [\n",
        "                        \"layer\",\n",
        "                        \"excessOf\",\n",
        "                        \"limit\",\n",
        "                        \"reinsuredPercent\"\n",
        "                    ]\n",
        "                },\n",
        "                \"description\": \"Information about the loss layers of the reinsurance contract\"\n",
        "            },\n",
        "            \"interest\": {\n",
        "                \"type\": \"string\",\n",
        "                \"description\": \"Coverage interest and lines of business\"\n",
        "            },\n",
        "            \"sumInsured\": {\n",
        "                \"type\": \"integer\",\n",
        "                \"description\": \"Total sum insured under the reinsurance contract\"\n",
        "            },\n",
        "            \"commission\": {\n",
        "                \"type\": \"object\",\n",
        "                \"properties\": {\n",
        "                    \"percent\": {\n",
        "                        \"type\": \"integer\",\n",
        "                        \"description\": \"Commission percentage\"\n",
        "                    },\n",
        "                    \"maxLossRatio\": {\n",
        "                        \"type\": \"integer\",\n",
        "                        \"description\": \"Maximum loss ratio for commission calculation\"\n",
        "                    }\n",
        "                },\n",
        "                \"required\": [\n",
        "                    \"percent\",\n",
        "                    \"maxLossRatio\"\n",
        "                ],\n",
        "                \"description\": \"Commission details\"\n",
        "            },\n",
        "            \"exclusions\": {\n",
        "                \"type\": \"array\",\n",
        "                \"items\": {\n",
        "                    \"type\": \"string\"\n",
        "                },\n",
        "                \"description\": \"List of exclusions or risks not covered by the reinsurance\"\n",
        "            },\n",
        "            \"claimsNotification\": {\n",
        "                \"type\": \"integer\",\n",
        "                \"description\": \"Timeframe for claims notification in days\"\n",
        "            },\n",
        "            \"arbitrationClause\": {\n",
        "                \"type\": \"string\",\n",
        "                \"description\": \"Clause describing arbitration process\"\n",
        "            },\n",
        "            \"currency\": {\n",
        "                \"type\": \"string\",\n",
        "                \"description\": \"Currency used for the reinsurance contract\"\n",
        "            }\n",
        "        },\n",
        "        \"required\": [\n",
        "            \"treatyType\",\n",
        "            \"insured\",\n",
        "            \"reinsurer\",\n",
        "            \"period\",\n",
        "            \"lossLayers\",\n",
        "            \"interest\",\n",
        "            \"sumInsured\",\n",
        "            \"commission\",\n",
        "            \"exclusions\",\n",
        "            \"claimsNotification\",\n",
        "            \"arbitrationClause\",\n",
        "            \"currency\",\n",
        "        ]\n",
        "    }\n",
        "    \"\"\""
      ]
    },
    {
      "cell_type": "markdown",
      "id": "dda8fbed",
      "metadata": {
        "id": "dda8fbed"
      },
      "source": [
        "## ユーティリティ関数"
      ]
    },
    {
      "cell_type": "code",
      "execution_count": null,
      "id": "8527603a",
      "metadata": {
        "id": "8527603a"
      },
      "outputs": [],
      "source": [
        "# 環境変数の取得\n",
        "def get_env_variable(name: str) -> str:\n",
        "    value: str | None = os.environ.get(name)\n",
        "    if value is None:\n",
        "        raise ValueError(f\"Environment variable '{name}' is not set\")\n",
        "    return value"
      ]
    },
    {
      "cell_type": "code",
      "execution_count": null,
      "id": "0a80b1e9",
      "metadata": {
        "id": "0a80b1e9"
      },
      "outputs": [],
      "source": [
        "# PDFからテキスト抽出\n",
        "def extract_text_from_pdf(pdf_path: Path) -> str:\n",
        "    with open(pdf_path, \"rb\") as file:\n",
        "        pdf_reader: PdfReader = PdfReader(file)\n",
        "        num_pages: int = len(pdf_reader.pages)\n",
        "\n",
        "        extracted_text: str = \"\"\n",
        "        for page_num in range(num_pages):\n",
        "            page = pdf_reader.pages[page_num]\n",
        "            text: str = page.extract_text()\n",
        "            extracted_text += text\n",
        "\n",
        "    return extracted_text"
      ]
    },
    {
      "cell_type": "code",
      "execution_count": null,
      "id": "62123da4",
      "metadata": {
        "id": "62123da4"
      },
      "outputs": [],
      "source": [
        "# テキストをJSON形式に変換\n",
        "def convert_text_to_json(text: str, client: OpenAI) -> dict:\n",
        "    prompt: str = (\n",
        "        f\"Contract: {text}\\n\\n\"\n",
        "        \"Q: What is the JSON representation of this reinsurance contract?\"\n",
        "    )\n",
        "\n",
        "    gpt_response = client.chat.completions.create(\n",
        "        model=\"gpt-4o-mini\",  # 最新モデルを使用（必要に応じてgpt-3.5-turbo-0125等に変更可能）\n",
        "        messages=[\n",
        "            {\n",
        "                \"role\": \"system\",\n",
        "                \"content\": SYSTEM_PROMPT,\n",
        "            },\n",
        "            {\"role\": \"user\", \"content\": prompt},\n",
        "        ],\n",
        "    )\n",
        "\n",
        "    # Extract JSON string from markdown code block if present\n",
        "    content = gpt_response.choices[0].message.content\n",
        "    if content.startswith(\"```json\"):\n",
        "        content = content.strip(\"```json\").strip(\"```\").strip()\n",
        "\n",
        "    # Add error handling to print the raw response\n",
        "    try:\n",
        "        return json.loads(content)\n",
        "    except json.JSONDecodeError as e:\n",
        "        print(\"Error decoding JSON:\")\n",
        "        print(content)\n",
        "        raise e"
      ]
    },
    {
      "cell_type": "markdown",
      "id": "0310ee4e",
      "metadata": {
        "id": "0310ee4e"
      },
      "source": [
        "## メイン処理実行"
      ]
    },
    {
      "cell_type": "code",
      "source": [
        "from google.colab import userdata"
      ],
      "metadata": {
        "id": "bMbIFuqlv8gU"
      },
      "id": "bMbIFuqlv8gU",
      "execution_count": null,
      "outputs": []
    },
    {
      "cell_type": "code",
      "execution_count": null,
      "id": "330c26b0",
      "metadata": {
        "colab": {
          "base_uri": "https://localhost:8080/"
        },
        "id": "330c26b0",
        "outputId": "5a273ccc-dad3-4ea2-ae16-856b73dbe139"
      },
      "outputs": [
        {
          "output_type": "stream",
          "name": "stdout",
          "text": [
            "2025-06-12 15:56:47.932722 - ri4 converted to JSON\n",
            "2025-06-12 15:56:56.356684 - ri2 converted to JSON\n",
            "2025-06-12 15:57:06.408859 - ri3 converted to JSON\n",
            "2025-06-12 15:57:15.665640 - ri5 converted to JSON\n",
            "2025-06-12 15:57:25.945616 - ri1 converted to JSON\n"
          ]
        }
      ],
      "source": [
        "# OpenAI APIキーの設定\n",
        "OPENAI_API_KEY: str = userdata.get('OPENAI_API_KEY')\n",
        "client = OpenAI(api_key=OPENAI_API_KEY)\n",
        "\n",
        "# 処理実行\n",
        "for contract in CONTRACTS_DIR.iterdir():\n",
        "    if contract.suffix.lower() == '.pdf':\n",
        "        pdf_text: str = extract_text_from_pdf(contract)\n",
        "        json_data: dict = convert_text_to_json(pdf_text, client)\n",
        "\n",
        "        with open(JSON_DIR / f\"{contract.stem}.json\", \"w\") as file:\n",
        "            json.dump(json_data, file, indent=4)\n",
        "\n",
        "        print(f\"{datetime.now()} - {contract.stem} converted to JSON\")"
      ]
    },
    {
      "cell_type": "code",
      "source": [],
      "metadata": {
        "id": "qnSTmQgywG-k"
      },
      "id": "qnSTmQgywG-k",
      "execution_count": null,
      "outputs": []
    }
  ],
  "metadata": {
    "language_info": {
      "name": "python"
    },
    "colab": {
      "provenance": []
    },
    "kernelspec": {
      "name": "python3",
      "display_name": "Python 3"
    }
  },
  "nbformat": 4,
  "nbformat_minor": 5
}